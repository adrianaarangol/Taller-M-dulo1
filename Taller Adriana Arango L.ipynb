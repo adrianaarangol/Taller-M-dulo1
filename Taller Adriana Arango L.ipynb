{
 "cells": [
  {
   "cell_type": "markdown",
   "metadata": {},
   "source": [
    "# Taller evaluable sobre la extracción, transformación y visualización de datos usando IPython"
   ]
  },
  {
   "cell_type": "markdown",
   "metadata": {},
   "source": [
    "**Juan David Velásquez Henao**   \n",
    "jdvelasq@unal.edu.co  \n",
    "Universidad Nacional de Colombia, Sede Medellín  \n",
    "Facultad de Minas  \n",
    "Medellín, Colombia "
   ]
  },
  {
   "cell_type": "markdown",
   "metadata": {},
   "source": [
    "# Instrucciones"
   ]
  },
  {
   "cell_type": "markdown",
   "metadata": {},
   "source": [
    "En la carpeta 'Taller' del repositorio 'ETVL-IPython' se encuentran los archivos 'Precio_Bolsa_Nacional_($kwh)_'*'.xls' en formato de Microsoft Excel, los cuales contienen los precios históricos horarios de la electricidad para el mercado eléctrico Colombiano entre los años 1995 y 2017 en COL-PESOS/kWh. A partir de la información suministrada resuelva los siguientes puntos usando el lenguaje de programación Python. "
   ]
  },
  {
   "cell_type": "markdown",
   "metadata": {},
   "source": [
    "# Preguntas"
   ]
  },
  {
   "cell_type": "markdown",
   "metadata": {},
   "source": []
  },
  {
   "cell_type": "markdown",
   "metadata": {},
   "source": [
    "**1.--** Lea los archivos y cree una tabla única concatenando la información para cada uno de los años. Imprima el encabezamiento de la tabla usando `head()`. "
   ]
  },
  {
   "cell_type": "code",
   "execution_count": 86,
   "metadata": {
    "collapsed": false
   },
   "outputs": [
    {
     "name": "stdout",
     "output_type": "stream",
     "text": [
      "        Fecha      0      1      2      3      4      5      6      7      8  \\\n",
      "0  1995-07-20    NaN  1.073  1.073  1.073  1.073  1.073  1.073  1.073  1.074   \n",
      "1  1995-07-21  1.073  1.000  1.000  1.000  1.000  1.000  5.000  6.000  6.000   \n",
      "2  1995-07-22  1.073  1.073  1.000  1.000  1.000  1.073  1.303  1.303  1.303   \n",
      "3  1995-07-23  1.073  1.000  1.000  1.000  1.000  1.000  0.100  1.000  1.000   \n",
      "4  1995-07-24  1.000  1.000  0.990  1.000  1.000  1.073  3.000  3.000  3.000   \n",
      "\n",
      "   ...       14     15     16     17      18      19      20     21     22  \\\n",
      "0  ...    1.073  1.073  1.073  1.073   1.074   1.897   1.897  1.897  1.073   \n",
      "1  ...    5.000  1.000  1.000  5.000  12.000  16.670  11.929  5.000  1.000   \n",
      "2  ...    1.073  1.000  1.000  1.000   1.303   2.500   2.500  1.303  1.073   \n",
      "3  ...    1.000  0.100  0.100  1.000   1.238   1.238   1.238  1.238  1.073   \n",
      "4  ...    1.073  1.073  3.000  2.000  18.630  22.500   9.256  3.000  1.073   \n",
      "\n",
      "      23  \n",
      "0  1.073  \n",
      "1  1.000  \n",
      "2  1.073  \n",
      "3  1.000  \n",
      "4  1.000  \n",
      "\n",
      "[5 rows x 25 columns]\n",
      "         Fecha           0           1           2           3           4  \\\n",
      "38  2017-02-08  116.070672  116.070672  116.070672  116.070672  116.070672   \n",
      "39  2017-02-09  117.853455  125.852455  110.853455  110.853455  115.833455   \n",
      "40  2017-02-10  133.799407  133.799407  117.799407  117.799407  125.699407   \n",
      "41  2017-02-11  132.603212  131.604212  131.604212  131.604212  131.604212   \n",
      "42  2017-02-12  141.109843  141.109843  141.109843  139.610843  128.110843   \n",
      "\n",
      "             5           6           7           8     ...              14  \\\n",
      "38  116.070672  119.070672  119.070672  126.570672     ...      141.570672   \n",
      "39  125.852455  125.852455  125.852455  125.853455     ...      132.353455   \n",
      "40  133.799407  133.799407  133.799407  161.798407     ...      206.799407   \n",
      "41  131.604212  132.603212  132.603212  132.603212     ...      162.604212   \n",
      "42  162.010843  128.110843  128.110843  141.109843     ...      141.109843   \n",
      "\n",
      "            15          16          17          18          19          20  \\\n",
      "38  141.570672  126.570672  126.570672  141.570672  249.215672  151.070672   \n",
      "39  132.353455  125.853455  125.853455  202.853455  206.853455  182.353455   \n",
      "40  206.799407  161.798407  161.798407  221.798407  206.799407  221.799407   \n",
      "41  162.604212  162.604212  162.604212  163.504212  207.604212  163.104212   \n",
      "42  141.109843  141.109843  141.109843  151.110843  162.010843  151.110843   \n",
      "\n",
      "            21          22          23  \n",
      "38  126.570672  126.570672  116.070672  \n",
      "39  125.853455  125.852455  117.853455  \n",
      "40  161.798407  161.798407  133.799407  \n",
      "41  162.604212  162.604212  132.603212  \n",
      "42  151.110843  141.109843  141.109843  \n",
      "\n",
      "[5 rows x 25 columns]\n"
     ]
    }
   ],
   "source": [
    "import pandas as pd\n",
    "x = []\n",
    "for n in range(1995,2018):\n",
    "        if n < 2000:\n",
    "            skip = 3\n",
    "        else:\n",
    "            skip = 2            \n",
    "        nombre_archivo = 'Precio_Bolsa_Nacional_($kwh)_' + str(n)\n",
    "        if n >= 2016:\n",
    "            nombre_archivo += '.xls'\n",
    "        else:\n",
    "            nombre_archivo += '.xlsx'\n",
    "        y = pd.read_excel(nombre_archivo, skiprows=skip, parse_cols=24)\n",
    "        x.append(y)\n",
    "z = pd.concat(x)\n",
    "print(z.head())\n",
    "print(z.tail())\n",
    "#print(y.head())"
   ]
  },
  {
   "cell_type": "markdown",
   "metadata": {},
   "source": [
    "**2.--** Compute e imprima el número de registros con datos faltantes."
   ]
  },
  {
   "cell_type": "code",
   "execution_count": 87,
   "metadata": {
    "collapsed": false
   },
   "outputs": [
    {
     "data": {
      "text/plain": [
       "28"
      ]
     },
     "execution_count": 87,
     "metadata": {},
     "output_type": "execute_result"
    }
   ],
   "source": [
    "y = z.dropna()\n",
    "len(z) - len(y)"
   ]
  },
  {
   "cell_type": "markdown",
   "metadata": {},
   "source": [
    "**3.--** Compute e imprima el número de registros duplicados."
   ]
  },
  {
   "cell_type": "code",
   "execution_count": 88,
   "metadata": {
    "collapsed": false
   },
   "outputs": [
    {
     "data": {
      "text/plain": [
       "59"
      ]
     },
     "execution_count": 88,
     "metadata": {},
     "output_type": "execute_result"
    }
   ],
   "source": [
    "#Númeo de registros duplicados eliminando de la tabla (z) los registros con datos faltantes (tabla y)\n",
    "w = y.drop_duplicates()\n",
    "len(y) - len(w)"
   ]
  },
  {
   "cell_type": "markdown",
   "metadata": {},
   "source": [
    "**4.--** Elimine los registros con datos duplicados o datos faltantes, e imprima la cantidad de registros que quedan (registros completos)."
   ]
  },
  {
   "cell_type": "code",
   "execution_count": 89,
   "metadata": {
    "collapsed": false
   },
   "outputs": [
    {
     "data": {
      "text/plain": [
       "7875"
      ]
     },
     "execution_count": 89,
     "metadata": {},
     "output_type": "execute_result"
    }
   ],
   "source": [
    "y = z.dropna()\n",
    "w = y.drop_duplicates()\n",
    "len(w)"
   ]
  },
  {
   "cell_type": "markdown",
   "metadata": {},
   "source": [
    "**5.--** Compute y grafique el precio primedio diario."
   ]
  },
  {
   "cell_type": "code",
   "execution_count": 90,
   "metadata": {
    "collapsed": false
   },
   "outputs": [],
   "source": [
    "import numpy as np\n",
    "import matplotlib.pyplot as plt\n",
    "import matplotlib as mpl\n",
    "%matplotlib inline"
   ]
  },
  {
   "cell_type": "code",
   "execution_count": 91,
   "metadata": {
    "collapsed": false,
    "scrolled": true
   },
   "outputs": [
    {
     "name": "stderr",
     "output_type": "stream",
     "text": [
      "C:\\Users\\Adriana Arango\\Anaconda3\\lib\\site-packages\\ipykernel\\__main__.py:2: SettingWithCopyWarning: \n",
      "A value is trying to be set on a copy of a slice from a DataFrame.\n",
      "Try using .loc[row_indexer,col_indexer] = value instead\n",
      "\n",
      "See the caveats in the documentation: http://pandas.pydata.org/pandas-docs/stable/indexing.html#indexing-view-versus-copy\n",
      "  from ipykernel import kernelapp as app\n"
     ]
    },
    {
     "data": {
      "text/html": [
       "<div>\n",
       "<table border=\"1\" class=\"dataframe\">\n",
       "  <thead>\n",
       "    <tr style=\"text-align: right;\">\n",
       "      <th></th>\n",
       "      <th>Fecha</th>\n",
       "      <th>0</th>\n",
       "      <th>1</th>\n",
       "      <th>2</th>\n",
       "      <th>3</th>\n",
       "      <th>4</th>\n",
       "      <th>5</th>\n",
       "      <th>6</th>\n",
       "      <th>7</th>\n",
       "      <th>8</th>\n",
       "      <th>...</th>\n",
       "      <th>15</th>\n",
       "      <th>16</th>\n",
       "      <th>17</th>\n",
       "      <th>18</th>\n",
       "      <th>19</th>\n",
       "      <th>20</th>\n",
       "      <th>21</th>\n",
       "      <th>22</th>\n",
       "      <th>23</th>\n",
       "      <th>Promedio</th>\n",
       "    </tr>\n",
       "  </thead>\n",
       "  <tbody>\n",
       "    <tr>\n",
       "      <th>1</th>\n",
       "      <td>1995-07-21</td>\n",
       "      <td>1.073</td>\n",
       "      <td>1.000</td>\n",
       "      <td>1.000</td>\n",
       "      <td>1.00</td>\n",
       "      <td>1.00</td>\n",
       "      <td>1.000</td>\n",
       "      <td>5.000</td>\n",
       "      <td>6.000</td>\n",
       "      <td>6.000</td>\n",
       "      <td>...</td>\n",
       "      <td>1.000</td>\n",
       "      <td>1.000</td>\n",
       "      <td>5.000</td>\n",
       "      <td>12.000</td>\n",
       "      <td>16.670</td>\n",
       "      <td>11.929</td>\n",
       "      <td>5.000</td>\n",
       "      <td>1.000</td>\n",
       "      <td>1.000</td>\n",
       "      <td>4.924333</td>\n",
       "    </tr>\n",
       "    <tr>\n",
       "      <th>2</th>\n",
       "      <td>1995-07-22</td>\n",
       "      <td>1.073</td>\n",
       "      <td>1.073</td>\n",
       "      <td>1.000</td>\n",
       "      <td>1.00</td>\n",
       "      <td>1.00</td>\n",
       "      <td>1.073</td>\n",
       "      <td>1.303</td>\n",
       "      <td>1.303</td>\n",
       "      <td>1.303</td>\n",
       "      <td>...</td>\n",
       "      <td>1.000</td>\n",
       "      <td>1.000</td>\n",
       "      <td>1.000</td>\n",
       "      <td>1.303</td>\n",
       "      <td>2.500</td>\n",
       "      <td>2.500</td>\n",
       "      <td>1.303</td>\n",
       "      <td>1.073</td>\n",
       "      <td>1.073</td>\n",
       "      <td>1.269500</td>\n",
       "    </tr>\n",
       "    <tr>\n",
       "      <th>3</th>\n",
       "      <td>1995-07-23</td>\n",
       "      <td>1.073</td>\n",
       "      <td>1.000</td>\n",
       "      <td>1.000</td>\n",
       "      <td>1.00</td>\n",
       "      <td>1.00</td>\n",
       "      <td>1.000</td>\n",
       "      <td>0.100</td>\n",
       "      <td>1.000</td>\n",
       "      <td>1.000</td>\n",
       "      <td>...</td>\n",
       "      <td>0.100</td>\n",
       "      <td>0.100</td>\n",
       "      <td>1.000</td>\n",
       "      <td>1.238</td>\n",
       "      <td>1.238</td>\n",
       "      <td>1.238</td>\n",
       "      <td>1.238</td>\n",
       "      <td>1.073</td>\n",
       "      <td>1.000</td>\n",
       "      <td>0.953083</td>\n",
       "    </tr>\n",
       "    <tr>\n",
       "      <th>4</th>\n",
       "      <td>1995-07-24</td>\n",
       "      <td>1.000</td>\n",
       "      <td>1.000</td>\n",
       "      <td>0.990</td>\n",
       "      <td>1.00</td>\n",
       "      <td>1.00</td>\n",
       "      <td>1.073</td>\n",
       "      <td>3.000</td>\n",
       "      <td>3.000</td>\n",
       "      <td>3.000</td>\n",
       "      <td>...</td>\n",
       "      <td>1.073</td>\n",
       "      <td>3.000</td>\n",
       "      <td>2.000</td>\n",
       "      <td>18.630</td>\n",
       "      <td>22.500</td>\n",
       "      <td>9.256</td>\n",
       "      <td>3.000</td>\n",
       "      <td>1.073</td>\n",
       "      <td>1.000</td>\n",
       "      <td>4.305917</td>\n",
       "    </tr>\n",
       "    <tr>\n",
       "      <th>5</th>\n",
       "      <td>1995-07-25</td>\n",
       "      <td>0.990</td>\n",
       "      <td>0.990</td>\n",
       "      <td>0.989</td>\n",
       "      <td>0.99</td>\n",
       "      <td>0.99</td>\n",
       "      <td>1.073</td>\n",
       "      <td>1.263</td>\n",
       "      <td>1.263</td>\n",
       "      <td>1.263</td>\n",
       "      <td>...</td>\n",
       "      <td>1.073</td>\n",
       "      <td>1.073</td>\n",
       "      <td>1.073</td>\n",
       "      <td>1.263</td>\n",
       "      <td>1.500</td>\n",
       "      <td>1.263</td>\n",
       "      <td>1.263</td>\n",
       "      <td>1.073</td>\n",
       "      <td>0.990</td>\n",
       "      <td>1.149167</td>\n",
       "    </tr>\n",
       "  </tbody>\n",
       "</table>\n",
       "<p>5 rows × 26 columns</p>\n",
       "</div>"
      ],
      "text/plain": [
       "        Fecha      0      1      2     3     4      5      6      7      8  \\\n",
       "1  1995-07-21  1.073  1.000  1.000  1.00  1.00  1.000  5.000  6.000  6.000   \n",
       "2  1995-07-22  1.073  1.073  1.000  1.00  1.00  1.073  1.303  1.303  1.303   \n",
       "3  1995-07-23  1.073  1.000  1.000  1.00  1.00  1.000  0.100  1.000  1.000   \n",
       "4  1995-07-24  1.000  1.000  0.990  1.00  1.00  1.073  3.000  3.000  3.000   \n",
       "5  1995-07-25  0.990  0.990  0.989  0.99  0.99  1.073  1.263  1.263  1.263   \n",
       "\n",
       "     ...        15     16     17      18      19      20     21     22     23  \\\n",
       "1    ...     1.000  1.000  5.000  12.000  16.670  11.929  5.000  1.000  1.000   \n",
       "2    ...     1.000  1.000  1.000   1.303   2.500   2.500  1.303  1.073  1.073   \n",
       "3    ...     0.100  0.100  1.000   1.238   1.238   1.238  1.238  1.073  1.000   \n",
       "4    ...     1.073  3.000  2.000  18.630  22.500   9.256  3.000  1.073  1.000   \n",
       "5    ...     1.073  1.073  1.073   1.263   1.500   1.263  1.263  1.073  0.990   \n",
       "\n",
       "   Promedio  \n",
       "1  4.924333  \n",
       "2  1.269500  \n",
       "3  0.953083  \n",
       "4  4.305917  \n",
       "5  1.149167  \n",
       "\n",
       "[5 rows x 26 columns]"
      ]
     },
     "execution_count": 91,
     "metadata": {},
     "output_type": "execute_result"
    }
   ],
   "source": [
    "Prom = w.mean(axis=1)\n",
    "w['Promedio'] = Prom\n",
    "w.head()"
   ]
  },
  {
   "cell_type": "code",
   "execution_count": 92,
   "metadata": {
    "collapsed": false
   },
   "outputs": [
    {
     "name": "stderr",
     "output_type": "stream",
     "text": [
      "C:\\Users\\Adriana Arango\\Anaconda3\\lib\\site-packages\\ipykernel\\__main__.py:1: SettingWithCopyWarning: \n",
      "A value is trying to be set on a copy of a slice from a DataFrame.\n",
      "Try using .loc[row_indexer,col_indexer] = value instead\n",
      "\n",
      "See the caveats in the documentation: http://pandas.pydata.org/pandas-docs/stable/indexing.html#indexing-view-versus-copy\n",
      "  if __name__ == '__main__':\n"
     ]
    }
   ],
   "source": [
    "w['Fecha'] = pd.to_datetime(w['Fecha'])"
   ]
  },
  {
   "cell_type": "code",
   "execution_count": 93,
   "metadata": {
    "collapsed": false,
    "scrolled": true
   },
   "outputs": [
    {
     "data": {
      "image/png": "[encoded data removed]",
      "text/plain": [
       "<matplotlib.figure.Figure at 0x6f41df0>"
      ]
     },
     "metadata": {},
     "output_type": "display_data"
    }
   ],
   "source": [
    "#Gráfica precios promedios por día\n",
    "GrafProm = plt.plot(w['Fecha'],w['Promedio'])\n",
    "plt.ylabel('$/kWh')\n",
    "plt.xlabel('Fecha')\n",
    "plt.title('Precios promedios diario ($/kWh)')\n",
    "plt.show()"
   ]
  },
  {
   "cell_type": "markdown",
   "metadata": {},
   "source": [
    "**6.--** Compute y grafique el precio máximo por mes."
   ]
  },
  {
   "cell_type": "code",
   "execution_count": 94,
   "metadata": {
    "collapsed": false
   },
   "outputs": [
    {
     "name": "stderr",
     "output_type": "stream",
     "text": [
      "C:\\Users\\Adriana Arango\\Anaconda3\\lib\\site-packages\\ipykernel\\__main__.py:2: SettingWithCopyWarning: \n",
      "A value is trying to be set on a copy of a slice from a DataFrame.\n",
      "Try using .loc[row_indexer,col_indexer] = value instead\n",
      "\n",
      "See the caveats in the documentation: http://pandas.pydata.org/pandas-docs/stable/indexing.html#indexing-view-versus-copy\n",
      "  from ipykernel import kernelapp as app\n"
     ]
    },
    {
     "data": {
      "text/html": [
       "<div>\n",
       "<table border=\"1\" class=\"dataframe\">\n",
       "  <thead>\n",
       "    <tr style=\"text-align: right;\">\n",
       "      <th></th>\n",
       "      <th>Fecha</th>\n",
       "      <th>0</th>\n",
       "      <th>1</th>\n",
       "      <th>2</th>\n",
       "      <th>3</th>\n",
       "      <th>4</th>\n",
       "      <th>5</th>\n",
       "      <th>6</th>\n",
       "      <th>7</th>\n",
       "      <th>8</th>\n",
       "      <th>...</th>\n",
       "      <th>16</th>\n",
       "      <th>17</th>\n",
       "      <th>18</th>\n",
       "      <th>19</th>\n",
       "      <th>20</th>\n",
       "      <th>21</th>\n",
       "      <th>22</th>\n",
       "      <th>23</th>\n",
       "      <th>Promedio</th>\n",
       "      <th>Máximo</th>\n",
       "    </tr>\n",
       "  </thead>\n",
       "  <tbody>\n",
       "    <tr>\n",
       "      <th>1</th>\n",
       "      <td>1995-07-21</td>\n",
       "      <td>1.073</td>\n",
       "      <td>1.000</td>\n",
       "      <td>1.000</td>\n",
       "      <td>1.00</td>\n",
       "      <td>1.00</td>\n",
       "      <td>1.000</td>\n",
       "      <td>5.000</td>\n",
       "      <td>6.000</td>\n",
       "      <td>6.000</td>\n",
       "      <td>...</td>\n",
       "      <td>1.000</td>\n",
       "      <td>5.000</td>\n",
       "      <td>12.000</td>\n",
       "      <td>16.670</td>\n",
       "      <td>11.929</td>\n",
       "      <td>5.000</td>\n",
       "      <td>1.000</td>\n",
       "      <td>1.000</td>\n",
       "      <td>4.924333</td>\n",
       "      <td>16.670</td>\n",
       "    </tr>\n",
       "    <tr>\n",
       "      <th>2</th>\n",
       "      <td>1995-07-22</td>\n",
       "      <td>1.073</td>\n",
       "      <td>1.073</td>\n",
       "      <td>1.000</td>\n",
       "      <td>1.00</td>\n",
       "      <td>1.00</td>\n",
       "      <td>1.073</td>\n",
       "      <td>1.303</td>\n",
       "      <td>1.303</td>\n",
       "      <td>1.303</td>\n",
       "      <td>...</td>\n",
       "      <td>1.000</td>\n",
       "      <td>1.000</td>\n",
       "      <td>1.303</td>\n",
       "      <td>2.500</td>\n",
       "      <td>2.500</td>\n",
       "      <td>1.303</td>\n",
       "      <td>1.073</td>\n",
       "      <td>1.073</td>\n",
       "      <td>1.269500</td>\n",
       "      <td>2.500</td>\n",
       "    </tr>\n",
       "    <tr>\n",
       "      <th>3</th>\n",
       "      <td>1995-07-23</td>\n",
       "      <td>1.073</td>\n",
       "      <td>1.000</td>\n",
       "      <td>1.000</td>\n",
       "      <td>1.00</td>\n",
       "      <td>1.00</td>\n",
       "      <td>1.000</td>\n",
       "      <td>0.100</td>\n",
       "      <td>1.000</td>\n",
       "      <td>1.000</td>\n",
       "      <td>...</td>\n",
       "      <td>0.100</td>\n",
       "      <td>1.000</td>\n",
       "      <td>1.238</td>\n",
       "      <td>1.238</td>\n",
       "      <td>1.238</td>\n",
       "      <td>1.238</td>\n",
       "      <td>1.073</td>\n",
       "      <td>1.000</td>\n",
       "      <td>0.953083</td>\n",
       "      <td>1.238</td>\n",
       "    </tr>\n",
       "    <tr>\n",
       "      <th>4</th>\n",
       "      <td>1995-07-24</td>\n",
       "      <td>1.000</td>\n",
       "      <td>1.000</td>\n",
       "      <td>0.990</td>\n",
       "      <td>1.00</td>\n",
       "      <td>1.00</td>\n",
       "      <td>1.073</td>\n",
       "      <td>3.000</td>\n",
       "      <td>3.000</td>\n",
       "      <td>3.000</td>\n",
       "      <td>...</td>\n",
       "      <td>3.000</td>\n",
       "      <td>2.000</td>\n",
       "      <td>18.630</td>\n",
       "      <td>22.500</td>\n",
       "      <td>9.256</td>\n",
       "      <td>3.000</td>\n",
       "      <td>1.073</td>\n",
       "      <td>1.000</td>\n",
       "      <td>4.305917</td>\n",
       "      <td>22.500</td>\n",
       "    </tr>\n",
       "    <tr>\n",
       "      <th>5</th>\n",
       "      <td>1995-07-25</td>\n",
       "      <td>0.990</td>\n",
       "      <td>0.990</td>\n",
       "      <td>0.989</td>\n",
       "      <td>0.99</td>\n",
       "      <td>0.99</td>\n",
       "      <td>1.073</td>\n",
       "      <td>1.263</td>\n",
       "      <td>1.263</td>\n",
       "      <td>1.263</td>\n",
       "      <td>...</td>\n",
       "      <td>1.073</td>\n",
       "      <td>1.073</td>\n",
       "      <td>1.263</td>\n",
       "      <td>1.500</td>\n",
       "      <td>1.263</td>\n",
       "      <td>1.263</td>\n",
       "      <td>1.073</td>\n",
       "      <td>0.990</td>\n",
       "      <td>1.149167</td>\n",
       "      <td>1.500</td>\n",
       "    </tr>\n",
       "  </tbody>\n",
       "</table>\n",
       "<p>5 rows × 27 columns</p>\n",
       "</div>"
      ],
      "text/plain": [
       "       Fecha      0      1      2     3     4      5      6      7      8  \\\n",
       "1 1995-07-21  1.073  1.000  1.000  1.00  1.00  1.000  5.000  6.000  6.000   \n",
       "2 1995-07-22  1.073  1.073  1.000  1.00  1.00  1.073  1.303  1.303  1.303   \n",
       "3 1995-07-23  1.073  1.000  1.000  1.00  1.00  1.000  0.100  1.000  1.000   \n",
       "4 1995-07-24  1.000  1.000  0.990  1.00  1.00  1.073  3.000  3.000  3.000   \n",
       "5 1995-07-25  0.990  0.990  0.989  0.99  0.99  1.073  1.263  1.263  1.263   \n",
       "\n",
       "    ...       16     17      18      19      20     21     22     23  \\\n",
       "1   ...    1.000  5.000  12.000  16.670  11.929  5.000  1.000  1.000   \n",
       "2   ...    1.000  1.000   1.303   2.500   2.500  1.303  1.073  1.073   \n",
       "3   ...    0.100  1.000   1.238   1.238   1.238  1.238  1.073  1.000   \n",
       "4   ...    3.000  2.000  18.630  22.500   9.256  3.000  1.073  1.000   \n",
       "5   ...    1.073  1.073   1.263   1.500   1.263  1.263  1.073  0.990   \n",
       "\n",
       "   Promedio  Máximo  \n",
       "1  4.924333  16.670  \n",
       "2  1.269500   2.500  \n",
       "3  0.953083   1.238  \n",
       "4  4.305917  22.500  \n",
       "5  1.149167   1.500  \n",
       "\n",
       "[5 rows x 27 columns]"
      ]
     },
     "execution_count": 94,
     "metadata": {},
     "output_type": "execute_result"
    }
   ],
   "source": [
    "Max = w.max(axis=1)\n",
    "w['Máximo'] = Max\n",
    "w.head()\n"
   ]
  },
  {
   "cell_type": "code",
   "execution_count": 95,
   "metadata": {
    "collapsed": false,
    "scrolled": true
   },
   "outputs": [
    {
     "name": "stderr",
     "output_type": "stream",
     "text": [
      "C:\\Users\\Adriana Arango\\Anaconda3\\lib\\site-packages\\ipykernel\\__main__.py:4: SettingWithCopyWarning: \n",
      "A value is trying to be set on a copy of a slice from a DataFrame.\n",
      "Try using .loc[row_indexer,col_indexer] = value instead\n",
      "\n",
      "See the caveats in the documentation: http://pandas.pydata.org/pandas-docs/stable/indexing.html#indexing-view-versus-copy\n"
     ]
    },
    {
     "data": {
      "text/html": [
       "<div>\n",
       "<table border=\"1\" class=\"dataframe\">\n",
       "  <thead>\n",
       "    <tr style=\"text-align: right;\">\n",
       "      <th></th>\n",
       "      <th>Fecha</th>\n",
       "      <th>0</th>\n",
       "      <th>1</th>\n",
       "      <th>2</th>\n",
       "      <th>3</th>\n",
       "      <th>4</th>\n",
       "      <th>5</th>\n",
       "      <th>6</th>\n",
       "      <th>7</th>\n",
       "      <th>8</th>\n",
       "      <th>...</th>\n",
       "      <th>17</th>\n",
       "      <th>18</th>\n",
       "      <th>19</th>\n",
       "      <th>20</th>\n",
       "      <th>21</th>\n",
       "      <th>22</th>\n",
       "      <th>23</th>\n",
       "      <th>Promedio</th>\n",
       "      <th>Máximo</th>\n",
       "      <th>Año-Mes</th>\n",
       "    </tr>\n",
       "  </thead>\n",
       "  <tbody>\n",
       "    <tr>\n",
       "      <th>1</th>\n",
       "      <td>1995-07-21</td>\n",
       "      <td>1.073</td>\n",
       "      <td>1.000</td>\n",
       "      <td>1.000</td>\n",
       "      <td>1.00</td>\n",
       "      <td>1.00</td>\n",
       "      <td>1.000</td>\n",
       "      <td>5.000</td>\n",
       "      <td>6.000</td>\n",
       "      <td>6.000</td>\n",
       "      <td>...</td>\n",
       "      <td>5.000</td>\n",
       "      <td>12.000</td>\n",
       "      <td>16.670</td>\n",
       "      <td>11.929</td>\n",
       "      <td>5.000</td>\n",
       "      <td>1.000</td>\n",
       "      <td>1.000</td>\n",
       "      <td>4.924333</td>\n",
       "      <td>16.670</td>\n",
       "      <td>1995-07</td>\n",
       "    </tr>\n",
       "    <tr>\n",
       "      <th>2</th>\n",
       "      <td>1995-07-22</td>\n",
       "      <td>1.073</td>\n",
       "      <td>1.073</td>\n",
       "      <td>1.000</td>\n",
       "      <td>1.00</td>\n",
       "      <td>1.00</td>\n",
       "      <td>1.073</td>\n",
       "      <td>1.303</td>\n",
       "      <td>1.303</td>\n",
       "      <td>1.303</td>\n",
       "      <td>...</td>\n",
       "      <td>1.000</td>\n",
       "      <td>1.303</td>\n",
       "      <td>2.500</td>\n",
       "      <td>2.500</td>\n",
       "      <td>1.303</td>\n",
       "      <td>1.073</td>\n",
       "      <td>1.073</td>\n",
       "      <td>1.269500</td>\n",
       "      <td>2.500</td>\n",
       "      <td>1995-07</td>\n",
       "    </tr>\n",
       "    <tr>\n",
       "      <th>3</th>\n",
       "      <td>1995-07-23</td>\n",
       "      <td>1.073</td>\n",
       "      <td>1.000</td>\n",
       "      <td>1.000</td>\n",
       "      <td>1.00</td>\n",
       "      <td>1.00</td>\n",
       "      <td>1.000</td>\n",
       "      <td>0.100</td>\n",
       "      <td>1.000</td>\n",
       "      <td>1.000</td>\n",
       "      <td>...</td>\n",
       "      <td>1.000</td>\n",
       "      <td>1.238</td>\n",
       "      <td>1.238</td>\n",
       "      <td>1.238</td>\n",
       "      <td>1.238</td>\n",
       "      <td>1.073</td>\n",
       "      <td>1.000</td>\n",
       "      <td>0.953083</td>\n",
       "      <td>1.238</td>\n",
       "      <td>1995-07</td>\n",
       "    </tr>\n",
       "    <tr>\n",
       "      <th>4</th>\n",
       "      <td>1995-07-24</td>\n",
       "      <td>1.000</td>\n",
       "      <td>1.000</td>\n",
       "      <td>0.990</td>\n",
       "      <td>1.00</td>\n",
       "      <td>1.00</td>\n",
       "      <td>1.073</td>\n",
       "      <td>3.000</td>\n",
       "      <td>3.000</td>\n",
       "      <td>3.000</td>\n",
       "      <td>...</td>\n",
       "      <td>2.000</td>\n",
       "      <td>18.630</td>\n",
       "      <td>22.500</td>\n",
       "      <td>9.256</td>\n",
       "      <td>3.000</td>\n",
       "      <td>1.073</td>\n",
       "      <td>1.000</td>\n",
       "      <td>4.305917</td>\n",
       "      <td>22.500</td>\n",
       "      <td>1995-07</td>\n",
       "    </tr>\n",
       "    <tr>\n",
       "      <th>5</th>\n",
       "      <td>1995-07-25</td>\n",
       "      <td>0.990</td>\n",
       "      <td>0.990</td>\n",
       "      <td>0.989</td>\n",
       "      <td>0.99</td>\n",
       "      <td>0.99</td>\n",
       "      <td>1.073</td>\n",
       "      <td>1.263</td>\n",
       "      <td>1.263</td>\n",
       "      <td>1.263</td>\n",
       "      <td>...</td>\n",
       "      <td>1.073</td>\n",
       "      <td>1.263</td>\n",
       "      <td>1.500</td>\n",
       "      <td>1.263</td>\n",
       "      <td>1.263</td>\n",
       "      <td>1.073</td>\n",
       "      <td>0.990</td>\n",
       "      <td>1.149167</td>\n",
       "      <td>1.500</td>\n",
       "      <td>1995-07</td>\n",
       "    </tr>\n",
       "  </tbody>\n",
       "</table>\n",
       "<p>5 rows × 28 columns</p>\n",
       "</div>"
      ],
      "text/plain": [
       "       Fecha      0      1      2     3     4      5      6      7      8  \\\n",
       "1 1995-07-21  1.073  1.000  1.000  1.00  1.00  1.000  5.000  6.000  6.000   \n",
       "2 1995-07-22  1.073  1.073  1.000  1.00  1.00  1.073  1.303  1.303  1.303   \n",
       "3 1995-07-23  1.073  1.000  1.000  1.00  1.00  1.000  0.100  1.000  1.000   \n",
       "4 1995-07-24  1.000  1.000  0.990  1.00  1.00  1.073  3.000  3.000  3.000   \n",
       "5 1995-07-25  0.990  0.990  0.989  0.99  0.99  1.073  1.263  1.263  1.263   \n",
       "\n",
       "    ...        17      18      19      20     21     22     23  Promedio  \\\n",
       "1   ...     5.000  12.000  16.670  11.929  5.000  1.000  1.000  4.924333   \n",
       "2   ...     1.000   1.303   2.500   2.500  1.303  1.073  1.073  1.269500   \n",
       "3   ...     1.000   1.238   1.238   1.238  1.238  1.073  1.000  0.953083   \n",
       "4   ...     2.000  18.630  22.500   9.256  3.000  1.073  1.000  4.305917   \n",
       "5   ...     1.073   1.263   1.500   1.263  1.263  1.073  0.990  1.149167   \n",
       "\n",
       "   Máximo  Año-Mes  \n",
       "1  16.670  1995-07  \n",
       "2   2.500  1995-07  \n",
       "3   1.238  1995-07  \n",
       "4  22.500  1995-07  \n",
       "5   1.500  1995-07  \n",
       "\n",
       "[5 rows x 28 columns]"
      ]
     },
     "execution_count": 95,
     "metadata": {},
     "output_type": "execute_result"
    }
   ],
   "source": [
    "b = []\n",
    "for n in range (len(w['Fecha'])):\n",
    "    b.append(str(w.iloc[n,0])[0:7])\n",
    "w['Año-Mes'] = b\n",
    "w.head()"
   ]
  },
  {
   "cell_type": "code",
   "execution_count": 96,
   "metadata": {
    "collapsed": false
   },
   "outputs": [
    {
     "data": {
      "text/plain": [
       "Año-Mes\n",
       "1995-07     22.500\n",
       "1995-08     40.000\n",
       "1995-09     40.572\n",
       "1995-10     33.700\n",
       "1995-11    111.907\n",
       "dtype: float64"
      ]
     },
     "execution_count": 96,
     "metadata": {},
     "output_type": "execute_result"
    }
   ],
   "source": [
    "MaxMes = w.groupby('Año-Mes').max()\n",
    "MaxMes = MaxMes.max(axis=1)\n",
    "MaxMes.head()"
   ]
  },
  {
   "cell_type": "code",
   "execution_count": 97,
   "metadata": {
    "collapsed": false
   },
   "outputs": [
    {
     "data": {
      "image/png": "[encoded data removed]",
      "text/plain": [
       "<matplotlib.figure.Figure at 0x73f5490>"
      ]
     },
     "metadata": {},
     "output_type": "display_data"
    }
   ],
   "source": [
    "#Gráfica Precios máximos horarios por mes ($/kWh)\n",
    "GrafMax = plt.plot(range(len(MaxMes)),MaxMes)\n",
    "plt.ylabel('$/kWh')\n",
    "plt.xlabel('Fecha')\n",
    "plt.title('Precios máximos horarios mensual ($/kWh)')\n",
    "plt.show()"
   ]
  },
  {
   "cell_type": "markdown",
   "metadata": {},
   "source": [
    "**7.--** Compute y grafique el precio mínimo mensual.\n"
   ]
  },
  {
   "cell_type": "code",
   "execution_count": 98,
   "metadata": {
    "collapsed": false
   },
   "outputs": [
    {
     "data": {
      "text/plain": [
       "Año-Mes\n",
       "1995-07    0.000\n",
       "1995-08    0.000\n",
       "1995-09    1.073\n",
       "1995-10    0.000\n",
       "1995-11    1.072\n",
       "dtype: float64"
      ]
     },
     "execution_count": 98,
     "metadata": {},
     "output_type": "execute_result"
    }
   ],
   "source": [
    "MinMes = w.groupby('Año-Mes').min()\n",
    "MinMes = MinMes.min(axis=1)\n",
    "MinMes.head()"
   ]
  },
  {
   "cell_type": "code",
   "execution_count": 99,
   "metadata": {
    "collapsed": false
   },
   "outputs": [
    {
     "data": {
      "image/png": "[encoded data removed]",
      "text/plain": [
       "<matplotlib.figure.Figure at 0x84f2dd0>"
      ]
     },
     "metadata": {},
     "output_type": "display_data"
    }
   ],
   "source": [
    "#Gráfica Precios mínimos horarios por mes ($/kWh)\n",
    "GrafMax = plt.plot(range(len(MinMes)),MinMes)\n",
    "plt.ylabel('$/kWh')\n",
    "plt.xlabel('Fecha')\n",
    "#plt.axis(['1995-07', '2017-02'])\n",
    "plt.title('Precios mínimos horarios mensual ($/kWh)')\n",
    "plt.show()"
   ]
  },
  {
   "cell_type": "markdown",
   "metadata": {},
   "source": [
    "**8.--** Haga un gráfico para comparar el precio máximo del mes (para cada mes) y el precio promedio mensual."
   ]
  },
  {
   "cell_type": "code",
   "execution_count": 100,
   "metadata": {
    "collapsed": false
   },
   "outputs": [
    {
     "data": {
      "text/plain": [
       "Año-Mes\n",
       "1995-07       1.723059\n",
       "1995-08       7.275746\n",
       "1995-09      11.215258\n",
       "1995-10      10.756155\n",
       "1995-11      27.899621\n",
       "1995-12      70.164350\n",
       "1996-01      23.575689\n",
       "1996-02       8.376256\n",
       "1996-03       3.598592\n",
       "1996-04       3.296864\n",
       "1996-05       2.110192\n",
       "1996-06       2.137085\n",
       "1996-07       1.832870\n",
       "1996-08       4.238908\n",
       "1996-09      16.155494\n",
       "1996-10       6.077479\n",
       "1996-11      21.077061\n",
       "1996-12      15.155813\n",
       "1997-01      22.002194\n",
       "1997-02      27.475974\n",
       "1997-03      26.325731\n",
       "1997-04      25.893393\n",
       "1997-05      36.049443\n",
       "1997-06      33.991433\n",
       "1997-07      33.031841\n",
       "1997-08      39.650473\n",
       "1997-09     140.724931\n",
       "1997-10     138.900203\n",
       "1997-11     133.456489\n",
       "1997-12     129.820913\n",
       "              ...     \n",
       "2014-09     178.457204\n",
       "2014-10     209.058593\n",
       "2014-11     167.348191\n",
       "2014-12     175.943139\n",
       "2015-01     188.894473\n",
       "2015-02     167.428081\n",
       "2015-03     206.602047\n",
       "2015-04     162.793497\n",
       "2015-05     261.767780\n",
       "2015-06     188.376923\n",
       "2015-07     208.091286\n",
       "2015-08     185.654810\n",
       "2015-09     461.869445\n",
       "2015-10    1112.468970\n",
       "2015-11     768.899434\n",
       "2015-12     633.023255\n",
       "2016-01     558.699919\n",
       "2016-02     647.484898\n",
       "2016-03     830.983018\n",
       "2016-04     333.677236\n",
       "2016-05     141.693951\n",
       "2016-06     170.108358\n",
       "2016-07     130.451558\n",
       "2016-08     199.831980\n",
       "2016-09     153.083936\n",
       "2016-10     187.130031\n",
       "2016-11     167.709056\n",
       "2016-12     108.471791\n",
       "2017-01     113.433619\n",
       "2017-02     129.677407\n",
       "dtype: float64"
      ]
     },
     "execution_count": 100,
     "metadata": {},
     "output_type": "execute_result"
    }
   ],
   "source": [
    "PromMes = w.groupby('Año-Mes').mean()\n",
    "PromMes = PromMes.mean(axis=1)\n",
    "PromMes.head()\n",
    "PromMes"
   ]
  },
  {
   "cell_type": "code",
   "execution_count": 102,
   "metadata": {
    "collapsed": false
   },
   "outputs": [
    {
     "data": {
      "image/png": "[encoded data removed]",
      "text/plain": [
       "<matplotlib.figure.Figure at 0x744a870>"
      ]
     },
     "metadata": {},
     "output_type": "display_data"
    }
   ],
   "source": [
    "#Gráfica Precios mínimos horarios por mes ($/kWh)\n",
    "GrafMax = plt.plot(range(len(MaxMes)),MaxMes)\n",
    "GrafProm = plt.plot(range(len(PromMes)),PromMes)\n",
    "plt.ylabel('$/kWh')\n",
    "plt.xlabel('Fecha')\n",
    "plt.title('Precio máximo vs. Precio Promedio mes ($/kWh)')\n",
    "plt.show()"
   ]
  },
  {
   "cell_type": "markdown",
   "metadata": {},
   "source": [
    "**9.--** Haga un histograma que muestre a que horas se produce el máximo precio diario para los días laborales."
   ]
  },
  {
   "cell_type": "code",
   "execution_count": 103,
   "metadata": {
    "collapsed": false,
    "scrolled": false
   },
   "outputs": [
    {
     "name": "stderr",
     "output_type": "stream",
     "text": [
      "C:\\Users\\Adriana Arango\\Anaconda3\\lib\\site-packages\\ipykernel\\__main__.py:2: SettingWithCopyWarning: \n",
      "A value is trying to be set on a copy of a slice from a DataFrame.\n",
      "Try using .loc[row_indexer,col_indexer] = value instead\n",
      "\n",
      "See the caveats in the documentation: http://pandas.pydata.org/pandas-docs/stable/indexing.html#indexing-view-versus-copy\n",
      "  from ipykernel import kernelapp as app\n"
     ]
    },
    {
     "data": {
      "text/plain": [
       "<matplotlib.text.Text at 0x7451ad0>"
      ]
     },
     "execution_count": 103,
     "metadata": {},
     "output_type": "execute_result"
    },
    {
     "data": {
      "image/png": "[encoded data removed]",
      "text/plain": [
       "<matplotlib.figure.Figure at 0x7398890>"
      ]
     },
     "metadata": {},
     "output_type": "display_data"
    }
   ],
   "source": [
    "dia = [1,2,3,1,1,1,1]*int(len(w)/7)\n",
    "w[\"dia\"]=dia\n",
    "lab = w[w[\"dia\"]==1]\n",
    "labind=[\"line_{}\".format(n) for n in range(len(lab))]\n",
    "lab.index=labind\n",
    "wmaxhist=[]\n",
    "wmaxhist1=[]\n",
    "contar = []  \n",
    "for n in range(len(lab)):\n",
    "    wmaxhist1=pd.Series(lab.loc[\"line_\"+str(n)]).values[1:25]\n",
    "    wmaxhist.append ([i for i,e in enumerate(wmaxhist1) if e == max(wmaxhist1)])\n",
    "contar = []\n",
    "for n in range (len(lab)):\n",
    "    for i in range (len(wmaxhist[n])):\n",
    "        contar.append(wmaxhist[n][i])\n",
    "plt.hist(contar, bins =24)\n",
    "plt.xlabel(\"Hora\")\n",
    "plt.ylabel(\"Frecuencia\")\n",
    "plt.title(\"Histograma precio máximo dias laborales\")\n",
    "\n",
    "    "
   ]
  },
  {
   "cell_type": "markdown",
   "metadata": {},
   "source": [
    "**10.--** Haga un histograma que muestre a que horas se produce el máximo precio diario para los días sabado."
   ]
  },
  {
   "cell_type": "code",
   "execution_count": 104,
   "metadata": {
    "collapsed": false,
    "scrolled": false
   },
   "outputs": [
    {
     "name": "stderr",
     "output_type": "stream",
     "text": [
      "C:\\Users\\Adriana Arango\\Anaconda3\\lib\\site-packages\\ipykernel\\__main__.py:2: SettingWithCopyWarning: \n",
      "A value is trying to be set on a copy of a slice from a DataFrame.\n",
      "Try using .loc[row_indexer,col_indexer] = value instead\n",
      "\n",
      "See the caveats in the documentation: http://pandas.pydata.org/pandas-docs/stable/indexing.html#indexing-view-versus-copy\n",
      "  from ipykernel import kernelapp as app\n"
     ]
    },
    {
     "data": {
      "text/plain": [
       "<matplotlib.text.Text at 0x41b7050>"
      ]
     },
     "execution_count": 104,
     "metadata": {},
     "output_type": "execute_result"
    },
    {
     "data": {
      "image/png": "[encoded data removed]",
      "text/plain": [
       "<matplotlib.figure.Figure at 0x7dd36b0>"
      ]
     },
     "metadata": {},
     "output_type": "display_data"
    }
   ],
   "source": [
    "dia = [1,2,3,1,1,1,1]*int(len(w)/7)\n",
    "w[\"dia\"]=dia\n",
    "lab = w[w[\"dia\"]==2]\n",
    "labind=[\"line_{}\".format(n) for n in range(len(lab))]\n",
    "lab.index=labind\n",
    "wmaxhist=[]\n",
    "wmaxhist1=[]\n",
    "contar = []  \n",
    "for n in range(len(lab)):\n",
    "    wmaxhist1=pd.Series(lab.loc[\"line_\"+str(n)]).values[1:25]\n",
    "    wmaxhist.append ([i for i,e in enumerate(wmaxhist1) if e == max(wmaxhist1)])\n",
    "contar = []\n",
    "for n in range (len(lab)):\n",
    "    for i in range (len(wmaxhist[n])):\n",
    "        contar.append(wmaxhist[n][i])\n",
    "plt.hist(contar, bins =24)\n",
    "plt.xlabel(\"Hora\")\n",
    "plt.ylabel(\"Frecuencia\")\n",
    "plt.title(\"Histograma precio máximo los días sábado\")\n",
    "\n",
    "    "
   ]
  },
  {
   "cell_type": "markdown",
   "metadata": {},
   "source": [
    "**11.--** Haga un histograma que muestre a que horas se produce el máximo precio diario para los días domingo."
   ]
  },
  {
   "cell_type": "code",
   "execution_count": 105,
   "metadata": {
    "collapsed": false,
    "scrolled": false
   },
   "outputs": [
    {
     "name": "stderr",
     "output_type": "stream",
     "text": [
      "C:\\Users\\Adriana Arango\\Anaconda3\\lib\\site-packages\\ipykernel\\__main__.py:2: SettingWithCopyWarning: \n",
      "A value is trying to be set on a copy of a slice from a DataFrame.\n",
      "Try using .loc[row_indexer,col_indexer] = value instead\n",
      "\n",
      "See the caveats in the documentation: http://pandas.pydata.org/pandas-docs/stable/indexing.html#indexing-view-versus-copy\n",
      "  from ipykernel import kernelapp as app\n"
     ]
    },
    {
     "data": {
      "text/plain": [
       "<matplotlib.text.Text at 0x7db4810>"
      ]
     },
     "execution_count": 105,
     "metadata": {},
     "output_type": "execute_result"
    },
    {
     "data": {
      "image/png": "[encoded data removed]",
      "text/plain": [
       "<matplotlib.figure.Figure at 0x6f43a70>"
      ]
     },
     "metadata": {},
     "output_type": "display_data"
    }
   ],
   "source": [
    "dia = [1,2,3,1,1,1,1]*int(len(w)/7)\n",
    "w[\"dia\"]=dia\n",
    "lab = w[w[\"dia\"]==3]\n",
    "labind=[\"line_{}\".format(n) for n in range(len(lab))]\n",
    "lab.index=labind\n",
    "wmaxhist=[]\n",
    "wmaxhist1=[]\n",
    "contar = []  \n",
    "for n in range(len(lab)):\n",
    "    wmaxhist1=pd.Series(lab.loc[\"line_\"+str(n)]).values[1:25]\n",
    "    wmaxhist.append ([i for i,e in enumerate(wmaxhist1) if e == max(wmaxhist1)])\n",
    "contar = []\n",
    "for n in range (len(lab)):\n",
    "    for i in range (len(wmaxhist[n])):\n",
    "        contar.append(wmaxhist[n][i])\n",
    "plt.hist(contar, bins =24)\n",
    "plt.xlabel(\"Hora\")\n",
    "plt.ylabel(\"Frecuencia\")\n",
    "plt.title(\"Histograma precio máximo para los días domingo\")\n",
    "\n",
    "    "
   ]
  },
  {
   "cell_type": "markdown",
   "metadata": {},
   "source": [
    "**12.--** Imprima una tabla con la fecha y el valor más bajo por año del precio de bolsa."
   ]
  },
  {
   "cell_type": "code",
   "execution_count": 106,
   "metadata": {
    "collapsed": false
   },
   "outputs": [
    {
     "name": "stderr",
     "output_type": "stream",
     "text": [
      "C:\\Users\\Adriana Arango\\Anaconda3\\lib\\site-packages\\ipykernel\\__main__.py:4: SettingWithCopyWarning: \n",
      "A value is trying to be set on a copy of a slice from a DataFrame.\n",
      "Try using .loc[row_indexer,col_indexer] = value instead\n",
      "\n",
      "See the caveats in the documentation: http://pandas.pydata.org/pandas-docs/stable/indexing.html#indexing-view-versus-copy\n"
     ]
    },
    {
     "data": {
      "text/plain": [
       "Año\n",
       "1995    0\n",
       "1996    0\n",
       "1997    1\n",
       "1998    1\n",
       "1999    1\n",
       "2000    1\n",
       "2001    1\n",
       "2002    1\n",
       "2003    1\n",
       "2004    1\n",
       "2005    1\n",
       "2006    1\n",
       "2007    1\n",
       "2008    1\n",
       "2009    1\n",
       "2010    1\n",
       "2011    1\n",
       "2012    1\n",
       "2013    1\n",
       "2014    1\n",
       "2015    1\n",
       "2016    1\n",
       "2017    1\n",
       "dtype: float64"
      ]
     },
     "execution_count": 106,
     "metadata": {},
     "output_type": "execute_result"
    }
   ],
   "source": [
    "a = []\n",
    "for n in range (len(w)):\n",
    "    a.append(str(w.iloc[n,0])[0:4])\n",
    "w['Año'] = a\n",
    "MinAño = w.groupby('Año').min()\n",
    "MinAño = MinAño.min(axis=1)\n",
    "\n",
    "MinAño\n"
   ]
  },
  {
   "cell_type": "markdown",
   "metadata": {},
   "source": [
    "**13.--** Haga una gráfica en que se muestre el precio promedio diario y el precio promedio mensual."
   ]
  },
  {
   "cell_type": "code",
   "execution_count": 135,
   "metadata": {
    "collapsed": false
   },
   "outputs": [
    {
     "data": {
      "image/png": "[encoded data removed]",
      "text/plain": [
       "<matplotlib.figure.Figure at 0x85443b0>"
      ]
     },
     "metadata": {},
     "output_type": "display_data"
    }
   ],
   "source": [
    "#Gráfica precios promedios por día\n",
    "GrafProm = plt.plot(w['Fecha'],w['Promedio'])\n",
    "plt.ylabel('$/kWh')\n",
    "plt.xlabel('Fecha')\n",
    "plt.title('Precios promedios por día ($/kWh)')\n",
    "plt.show()"
   ]
  }
 ],
 "metadata": {
  "anaconda-cloud": {},
  "kernelspec": {
   "display_name": "Python 3",
   "language": "python",
   "name": "python3"
  },
  "language_info": {
   "codemirror_mode": {
    "name": "ipython",
    "version": 3
   },
   "file_extension": ".py",
   "mimetype": "text/x-python",
   "name": "python",
   "nbconvert_exporter": "python",
   "pygments_lexer": "ipython3",
   "version": "3.5.2"
  }
 },
 "nbformat": 4,
 "nbformat_minor": 1
}
